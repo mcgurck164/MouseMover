{
 "cells": [
  {
   "cell_type": "markdown",
   "metadata": {},
   "source": [
    "### Vorbereitung"
   ]
  },
  {
   "cell_type": "markdown",
   "metadata": {},
   "source": [
    "Ich glaube, die Bibliothek, die ich damals genutzt habe, war `pyautogui`. Wahrscheinlich musst die erst noch über die Anaconda Prompt mittels `pip install pyautogui` installieren.<br>\n",
    "Alle Befehle finden sich in der [Dokumentation](https://pypi.org/project/PyAutoGUI/)."
   ]
  },
  {
   "cell_type": "code",
   "execution_count": 2,
   "metadata": {},
   "outputs": [],
   "source": [
    "import pyautogui"
   ]
  },
  {
   "cell_type": "markdown",
   "metadata": {},
   "source": [
    "Erstmal brauchen wir eine Liste mit allen Namen, die in die Query eingefügt werden sollen<br>\n",
    "Das kannst du entweder manuell machen, oder du liest eine Excel/CSV/whatever Datei ein. (Kann ich dir ggf. auch zeigen.)"
   ]
  },
  {
   "cell_type": "code",
   "execution_count": 3,
   "metadata": {},
   "outputs": [],
   "source": [
    "names = [\"Eileen\", \"Tobi\", \"Globin\", \"Frank\"]"
   ]
  },
  {
   "cell_type": "markdown",
   "metadata": {},
   "source": [
    "Dann natürlich noch die Query. Hier einmal den richtigen Text reinschreiben und den Namensplatzhalter wie unten einfügen."
   ]
  },
  {
   "cell_type": "code",
   "execution_count": 19,
   "metadata": {},
   "outputs": [],
   "source": [
    "query = \"\"\"\n",
    "<Batch>blablablabal\n",
    "   <Create blablabl>\n",
    "       <Name><PLACEHOLDER>/Name>\n",
    "   </Create>\n",
    "<Batch>   \n",
    "\"\"\""
   ]
  },
  {
   "cell_type": "markdown",
   "metadata": {},
   "source": [
    "### Positionen\n",
    "Bevor du das Hauptprogramm laufen lassen kannst, musst du einmalig die Positionen der Fenster bzw. Buttons \"ausmessen\", d.h. deren x- und y-Koordinaten bestimmen. Du musst natürlich sicherstellen, dass sich weder Größe noch Position der Fenster und Buttons ändert nachdem du ausgemessen hast!<br>\n",
    "Zum Vermessen bewegst du die Maus zu dem Punkt, dessen Koordinaten du erfassen willst und führst hier im Notebook die folgende Zelle aus. (Denk dran, die Maus nicht wieder zu verschieben, weil du das Skript auswählen willst ... Das ist mir wesentlich öfter passiert, als ich bereit bin zuzugeben. Alt + Tab und die Pfeiltasten sind deine Freunde.) Die Koordinaten, die es dir dann ausspuckt, trägst du in der übernächsten Zelle in die (x, y) Tupel ein. (Es kann sein, dass die Koordinaten negativ sind ... dann einfach das Minuszeichen mitkopieren.)"
   ]
  },
  {
   "cell_type": "code",
   "execution_count": 10,
   "metadata": {},
   "outputs": [
    {
     "name": "stdout",
     "output_type": "stream",
     "text": [
      "1227 24\n"
     ]
    }
   ],
   "source": [
    "x, y = pyautogui.position()\n",
    "print(x, y)"
   ]
  },
  {
   "cell_type": "code",
   "execution_count": 22,
   "metadata": {},
   "outputs": [],
   "source": [
    "pos_dax_studio = (1227, 24) # irgendwo am oberen Rand, wo keine Buttons sind\n",
    "pos_query_window = (1136, 480)\n",
    "pos_run_button = (1, 1)\n",
    "# ..."
   ]
  },
  {
   "cell_type": "markdown",
   "metadata": {},
   "source": [
    "### Hauptprogramm"
   ]
  },
  {
   "cell_type": "markdown",
   "metadata": {},
   "source": [
    "Hier musst du jetzt noch eintragen, wie lange die Query braucht um auszuführen. Während der Zeit dürfen natürlich keine neuen Befehle eingegeben werden, das Programm muss also \"schlafen\" (s. Funktion `pyautogui.sleep(time)`). Das ist erfahrungsgemäß der kritischste Teil, weil das a) gerne mal schwankt und b) wenn es nicht lange genug ist, das Programm failt. Also versuch hier besser nicht auch noch die letzte Zehntelsekunde herauszuoptimieren."
   ]
  },
  {
   "cell_type": "code",
   "execution_count": 21,
   "metadata": {},
   "outputs": [],
   "source": [
    "runtime = 5 # Zeit in Sekunden"
   ]
  },
  {
   "cell_type": "markdown",
   "metadata": {},
   "source": [
    "Sobald du die folgende Zelle ausführst, unbedingt Finger weg vom Laptop. <br>\n",
    "Zu Testzwecken würde ich mal die Zeile, wo auf \"Ausführen\" geklickt wird auskommentieren und nur eine Handvoll Namen in `names` packen. Dann siehst du eigentlich ganz gut, ob alles passt."
   ]
  },
  {
   "cell_type": "code",
   "execution_count": 20,
   "metadata": {},
   "outputs": [],
   "source": [
    "# Einmalig das DAX Studio Fenster auswählen\n",
    "pyautogui.click(pos_dax_studio)\n",
    "\n",
    "for name in names:    \n",
    "    # Query Fenster anklicken\n",
    "    pyautogui.click(pos_query_window)\n",
    "    pyautogui.sleep(1)\n",
    "    \n",
    "    # Alles auswählen\n",
    "    pyautogui.hotkey(\"ctrl\", \"a\")\n",
    "    pyautogui.sleep(1)\n",
    "    \n",
    "    # Text überschreiben\n",
    "    pyautogui.write(query.replace(\"<PLACEHOLDER>\", name))\n",
    "    pyautogui.sleep(1)\n",
    "    \n",
    "    # Ausführen anklicken\n",
    "    pyautogui.click(pos_run_button)\n",
    "    pyautogui.sleep(runtime)"
   ]
  },
  {
   "cell_type": "markdown",
   "metadata": {},
   "source": [
    "Es kann natürlich sein, dass da noch ein paar Schritte fehlen. Wenn beispielsweise nach erfolgreichem Query-Run noch ein Fenster weggeklickt werden muss, muss das natürlich auch noch berücksichtigt werden. Aber das findest du schon raus."
   ]
  },
  {
   "cell_type": "code",
   "execution_count": null,
   "metadata": {},
   "outputs": [],
   "source": []
  }
 ],
 "metadata": {
  "kernelspec": {
   "display_name": "Python 3",
   "language": "python",
   "name": "python3"
  },
  "language_info": {
   "codemirror_mode": {
    "name": "ipython",
    "version": 3
   },
   "file_extension": ".py",
   "mimetype": "text/x-python",
   "name": "python",
   "nbconvert_exporter": "python",
   "pygments_lexer": "ipython3",
   "version": "3.7.1"
  }
 },
 "nbformat": 4,
 "nbformat_minor": 2
}
